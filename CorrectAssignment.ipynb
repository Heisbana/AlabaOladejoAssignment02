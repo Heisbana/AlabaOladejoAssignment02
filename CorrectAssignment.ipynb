{
  "nbformat": 4,
  "nbformat_minor": 0,
  "metadata": {
    "colab": {
      "provenance": [],
      "authorship_tag": "ABX9TyNDgdCK4tLAz/NkIDNBnaaI",
      "include_colab_link": true
    },
    "kernelspec": {
      "name": "python3",
      "display_name": "Python 3"
    },
    "language_info": {
      "name": "python"
    }
  },
  "cells": [
    {
      "cell_type": "markdown",
      "metadata": {
        "id": "view-in-github",
        "colab_type": "text"
      },
      "source": [
        "<a href=\"https://colab.research.google.com/github/Heisbana/AlabaOladejoAssignment02/blob/main/CorrectAssignment.ipynb\" target=\"_parent\"><img src=\"https://colab.research.google.com/assets/colab-badge.svg\" alt=\"Open In Colab\"/></a>"
      ]
    },
    {
      "cell_type": "code",
      "source": [
        "!pip install numpy\n"
      ],
      "metadata": {
        "id": "AlSn4pLqFb-Y"
      },
      "execution_count": null,
      "outputs": []
    },
    {
      "cell_type": "code",
      "source": [
        "!pip install scikit-learn\n"
      ],
      "metadata": {
        "id": "epZEufD7FjyV"
      },
      "execution_count": null,
      "outputs": []
    },
    {
      "cell_type": "code",
      "source": [
        "!pip install scikit-image\n"
      ],
      "metadata": {
        "id": "gZNmCSiJFqJs"
      },
      "execution_count": null,
      "outputs": []
    },
    {
      "cell_type": "code",
      "source": [
        "!pip install pillow\n"
      ],
      "metadata": {
        "colab": {
          "base_uri": "https://localhost:8080/"
        },
        "id": "Te36VclvF8vj",
        "outputId": "144ea88a-0912-49ba-d5b0-88cfb6942586"
      },
      "execution_count": 5,
      "outputs": [
        {
          "output_type": "stream",
          "name": "stdout",
          "text": [
            "Requirement already satisfied: pillow in /usr/local/lib/python3.10/dist-packages (8.4.0)\n"
          ]
        }
      ]
    },
    {
      "cell_type": "code",
      "execution_count": 23,
      "metadata": {
        "colab": {
          "base_uri": "https://localhost:8080/"
        },
        "id": "DZm77BzoDjBs",
        "outputId": "8dbd6897-6ac3-4bc8-d6ed-280f1c9a2fac"
      },
      "outputs": [
        {
          "output_type": "stream",
          "name": "stdout",
          "text": [
            "Unique labels: ['bat' 'cat' 'dog' 'pig']\n",
            "Accuracy: 50.00%\n",
            "Predicted animal category: dog\n"
          ]
        }
      ],
      "source": [
        "import os\n",
        "import numpy as np\n",
        "from skimage.io import imread\n",
        "from skimage.transform import resize\n",
        "from sklearn.model_selection import train_test_split\n",
        "from sklearn import svm\n",
        "from sklearn.metrics import accuracy_score\n",
        "\n",
        "# Set the path to the directory containing animal images\n",
        "data_path = '/content/data/'\n",
        "\n",
        "# Define the list of target animal categories\n",
        "animal_categories = ['bat','cat','dog', 'pig']\n",
        "\n",
        "# Initialize the lists to store the image data and corresponding labels\n",
        "images = []\n",
        "labels = []\n",
        "\n",
        "# Load and preprocess the image data\n",
        "for category in animal_categories:\n",
        "    category_path = os.path.join(data_path, category)\n",
        "    for image_file in os.listdir(category_path):\n",
        "        image_path = os.path.join(category_path, image_file)\n",
        "        image = imread(image_path)\n",
        "        image_resized = resize(image, (100, 100), anti_aliasing=True)\n",
        "        images.append(image_resized.flatten())\n",
        "        labels.append(category)\n",
        "\n",
        "# Convert the lists to numpy arrays\n",
        "images = np.array(images)\n",
        "labels = np.array(labels)\n",
        "unique_labels = np.unique(labels)\n",
        "print(\"Unique labels:\", unique_labels)\n",
        "\n",
        "\n",
        "# Split the data into training and testing sets\n",
        "X_train, X_test, y_train, y_test = train_test_split(images, labels, test_size=0.2, random_state=42)\n",
        "\n",
        "# Train a Support Vector Machine (SVM) classifier\n",
        "classifier = svm.SVC(kernel='linear')\n",
        "classifier.fit(X_train, y_train)\n",
        "\n",
        "# Make predictions on the test set\n",
        "y_pred = classifier.predict(X_test)\n",
        "\n",
        "# Calculate accuracy of the classifier\n",
        "accuracy = accuracy_score(y_test, y_pred)\n",
        "print(f\"Accuracy: {accuracy*100:.2f}%\")\n",
        "\n",
        "# Classify a new image\n",
        "def classify_animal(image_path):\n",
        "    image = imread(image_path)\n",
        "    image_resized = resize(image, (100, 100), anti_aliasing=True)\n",
        "    flattened_image = image_resized.flatten()\n",
        "    prediction = classifier.predict([flattened_image])\n",
        "    print(\"Predicted animal category:\", prediction[0])\n",
        "\n",
        "# Provide the path to the image you want to classify\n",
        "image_path = '/content/sdddd.jpg'\n",
        "classify_animal(image_path)\n"
      ]
    }
  ]
}